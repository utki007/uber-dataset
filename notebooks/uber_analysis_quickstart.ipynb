{
 "cells": [
  {
   "cell_type": "markdown",
   "metadata": {},
   "source": [
    "# Uber Dataset Analysis - Quick Start Guide\n",
    "\n",
    "This notebook demonstrates basic analysis techniques using the Uber datasets."
   ]
  },
  {
   "cell_type": "markdown",
   "metadata": {},
   "source": [
    "## 1. Import Libraries"
   ]
  },
  {
   "cell_type": "code",
   "execution_count": null,
   "metadata": {},
   "outputs": [],
   "source": [
    "import pandas as pd\n",
    "import numpy as np\n",
    "import matplotlib.pyplot as plt\n",
    "import seaborn as sns\n",
    "\n",
    "# Set plotting style\n",
    "sns.set_style('whitegrid')\n",
    "plt.rcParams['figure.figsize'] = (12, 6)"
   ]
  },
  {
   "cell_type": "markdown",
   "metadata": {},
   "source": [
    "## 2. Load Datasets"
   ]
  },
  {
   "cell_type": "code",
   "execution_count": null,
   "metadata": {},
   "outputs": [],
   "source": [
    "# Load all datasets\n",
    "rides = pd.read_csv('../data/raw/uber_rides.csv')\n",
    "drivers = pd.read_csv('../data/raw/drivers.csv')\n",
    "locations = pd.read_csv('../data/raw/locations.csv')\n",
    "hourly_stats = pd.read_csv('../data/raw/hourly_stats.csv')\n",
    "fare_details = pd.read_csv('../data/raw/fare_details.csv')\n",
    "\n",
    "print(\"Datasets loaded successfully!\")\n",
    "print(f\"Total rides: {len(rides)}\")\n",
    "print(f\"Total drivers: {len(drivers)}\")\n",
    "print(f\"Total locations: {len(locations)}\")"
   ]
  },
  {
   "cell_type": "markdown",
   "metadata": {},
   "source": [
    "## 3. Explore Rides Dataset"
   ]
  },
  {
   "cell_type": "code",
   "execution_count": null,
   "metadata": {},
   "outputs": [],
   "source": [
    "# Display first few rows\n",
    "rides.head()"
   ]
  },
  {
   "cell_type": "code",
   "execution_count": null,
   "metadata": {},
   "outputs": [],
   "source": [
    "# Basic statistics\n",
    "rides.describe()"
   ]
  },
  {
   "cell_type": "code",
   "execution_count": null,
   "metadata": {},
   "outputs": [],
   "source": [
    "# Check for missing values\n",
    "rides.isnull().sum()"
   ]
  },
  {
   "cell_type": "markdown",
   "metadata": {},
   "source": [
    "## 4. Basic Analysis"
   ]
  },
  {
   "cell_type": "markdown",
   "metadata": {},
   "source": [
    "### 4.1 Average Fare by Payment Type"
   ]
  },
  {
   "cell_type": "code",
   "execution_count": null,
   "metadata": {},
   "outputs": [],
   "source": [
    "avg_fare_by_payment = rides.groupby('payment_type')['fare_amount'].mean()\n",
    "print(avg_fare_by_payment)\n",
    "\n",
    "# Visualize\n",
    "avg_fare_by_payment.plot(kind='bar', color='skyblue')\n",
    "plt.title('Average Fare by Payment Type')\n",
    "plt.ylabel('Average Fare (USD)')\n",
    "plt.xlabel('Payment Type')\n",
    "plt.xticks(rotation=45)\n",
    "plt.tight_layout()\n",
    "plt.show()"
   ]
  },
  {
   "cell_type": "markdown",
   "metadata": {},
   "source": [
    "### 4.2 Trip Duration Distribution"
   ]
  },
  {
   "cell_type": "code",
   "execution_count": null,
   "metadata": {},
   "outputs": [],
   "source": [
    "plt.hist(rides['trip_duration_minutes'], bins=20, color='lightgreen', edgecolor='black')\n",
    "plt.title('Distribution of Trip Duration')\n",
    "plt.xlabel('Duration (minutes)')\n",
    "plt.ylabel('Frequency')\n",
    "plt.axvline(rides['trip_duration_minutes'].mean(), color='red', linestyle='--', label='Mean')\n",
    "plt.legend()\n",
    "plt.show()"
   ]
  },
  {
   "cell_type": "markdown",
   "metadata": {},
   "source": [
    "### 4.3 Passenger Count Analysis"
   ]
  },
  {
   "cell_type": "code",
   "execution_count": null,
   "metadata": {},
   "outputs": [],
   "source": [
    "passenger_counts = rides['passenger_count'].value_counts().sort_index()\n",
    "print(passenger_counts)\n",
    "\n",
    "passenger_counts.plot(kind='bar', color='coral')\n",
    "plt.title('Distribution of Passenger Count')\n",
    "plt.xlabel('Number of Passengers')\n",
    "plt.ylabel('Number of Rides')\n",
    "plt.tight_layout()\n",
    "plt.show()"
   ]
  },
  {
   "cell_type": "markdown",
   "metadata": {},
   "source": [
    "## 5. Driver Analysis"
   ]
  },
  {
   "cell_type": "code",
   "execution_count": null,
   "metadata": {},
   "outputs": [],
   "source": [
    "# Top rated drivers\n",
    "top_drivers = drivers.nlargest(5, 'rating')[['name', 'rating', 'total_rides', 'years_experience']]\n",
    "print(\"Top 5 Rated Drivers:\")\n",
    "print(top_drivers)"
   ]
  },
  {
   "cell_type": "code",
   "execution_count": null,
   "metadata": {},
   "outputs": [],
   "source": [
    "# Rating vs Experience\n",
    "plt.scatter(drivers['years_experience'], drivers['rating'], alpha=0.6, s=100)\n",
    "plt.title('Driver Rating vs Years of Experience')\n",
    "plt.xlabel('Years of Experience')\n",
    "plt.ylabel('Rating')\n",
    "plt.grid(True, alpha=0.3)\n",
    "plt.show()"
   ]
  },
  {
   "cell_type": "markdown",
   "metadata": {},
   "source": [
    "## 6. Time-based Analysis"
   ]
  },
  {
   "cell_type": "code",
   "execution_count": null,
   "metadata": {},
   "outputs": [],
   "source": [
    "# Hourly ride distribution\n",
    "hourly_stats['datetime'] = pd.to_datetime(hourly_stats['date'] + ' ' + hourly_stats['hour'].astype(str) + ':00:00')\n",
    "\n",
    "plt.figure(figsize=(15, 6))\n",
    "plt.plot(hourly_stats['datetime'], hourly_stats['total_rides'], marker='o', linewidth=2)\n",
    "plt.title('Hourly Ride Volume Over Time')\n",
    "plt.xlabel('Date and Hour')\n",
    "plt.ylabel('Number of Rides')\n",
    "plt.xticks(rotation=45)\n",
    "plt.grid(True, alpha=0.3)\n",
    "plt.tight_layout()\n",
    "plt.show()"
   ]
  },
  {
   "cell_type": "markdown",
   "metadata": {},
   "source": [
    "## 7. Fare Analysis"
   ]
  },
  {
   "cell_type": "code",
   "execution_count": null,
   "metadata": {},
   "outputs": [],
   "source": [
    "# Merge rides with fare details\n",
    "rides_with_fares = rides.merge(fare_details, on='ride_id')\n",
    "\n",
    "# Fare components breakdown\n",
    "fare_components = fare_details[['base_fare', 'distance_fare', 'time_fare', 'tip_amount', 'taxes_fees']].mean()\n",
    "\n",
    "plt.figure(figsize=(10, 6))\n",
    "fare_components.plot(kind='bar', color=['#FF6B6B', '#4ECDC4', '#45B7D1', '#FFA07A', '#98D8C8'])\n",
    "plt.title('Average Fare Components')\n",
    "plt.ylabel('Amount (USD)')\n",
    "plt.xlabel('Fare Component')\n",
    "plt.xticks(rotation=45)\n",
    "plt.tight_layout()\n",
    "plt.show()"
   ]
  },
  {
   "cell_type": "markdown",
   "metadata": {},
   "source": [
    "## 8. Surge Pricing Analysis"
   ]
  },
  {
   "cell_type": "code",
   "execution_count": null,
   "metadata": {},
   "outputs": [],
   "source": [
    "surge_stats = fare_details.groupby('surge_multiplier').agg({\n",
    "    'ride_id': 'count',\n",
    "    'total_fare': 'mean'\n",
    "}).rename(columns={'ride_id': 'num_rides', 'total_fare': 'avg_fare'})\n",
    "\n",
    "print(\"Surge Pricing Statistics:\")\n",
    "print(surge_stats)"
   ]
  },
  {
   "cell_type": "markdown",
   "metadata": {},
   "source": [
    "## 9. Geographic Analysis"
   ]
  },
  {
   "cell_type": "code",
   "execution_count": null,
   "metadata": {},
   "outputs": [],
   "source": [
    "# Popular locations\n",
    "print(\"Popular Pickup Locations:\")\n",
    "print(locations[locations['popular_pickup'] == True][['location_name', 'borough', 'zone']])\n",
    "\n",
    "print(\"\\nPopular Dropoff Locations:\")\n",
    "print(locations[locations['popular_dropoff'] == True][['location_name', 'borough', 'zone']])"
   ]
  },
  {
   "cell_type": "markdown",
   "metadata": {},
   "source": [
    "## 10. Comprehensive Dashboard"
   ]
  },
  {
   "cell_type": "code",
   "execution_count": null,
   "metadata": {},
   "outputs": [],
   "source": [
    "# Create a comprehensive view\n",
    "fig, axes = plt.subplots(2, 2, figsize=(15, 10))\n",
    "\n",
    "# Plot 1: Fare distribution\n",
    "axes[0, 0].hist(rides['fare_amount'], bins=15, color='skyblue', edgecolor='black')\n",
    "axes[0, 0].set_title('Fare Distribution')\n",
    "axes[0, 0].set_xlabel('Fare (USD)')\n",
    "axes[0, 0].set_ylabel('Frequency')\n",
    "\n",
    "# Plot 2: Trip duration vs fare\n",
    "axes[0, 1].scatter(rides['trip_duration_minutes'], rides['fare_amount'], alpha=0.6)\n",
    "axes[0, 1].set_title('Trip Duration vs Fare')\n",
    "axes[0, 1].set_xlabel('Duration (minutes)')\n",
    "axes[0, 1].set_ylabel('Fare (USD)')\n",
    "\n",
    "# Plot 3: Payment type distribution\n",
    "rides['payment_type'].value_counts().plot(kind='pie', ax=axes[1, 0], autopct='%1.1f%%')\n",
    "axes[1, 0].set_title('Payment Type Distribution')\n",
    "axes[1, 0].set_ylabel('')\n",
    "\n",
    "# Plot 4: Rides by date\n",
    "rides_by_date = rides.groupby('date').size()\n",
    "rides_by_date.plot(kind='bar', ax=axes[1, 1], color='lightgreen')\n",
    "axes[1, 1].set_title('Rides by Date')\n",
    "axes[1, 1].set_xlabel('Date')\n",
    "axes[1, 1].set_ylabel('Number of Rides')\n",
    "axes[1, 1].tick_params(axis='x', rotation=45)\n",
    "\n",
    "plt.tight_layout()\n",
    "plt.show()"
   ]
  },
  {
   "cell_type": "markdown",
   "metadata": {},
   "source": [
    "## Summary Statistics"
   ]
  },
  {
   "cell_type": "code",
   "execution_count": null,
   "metadata": {},
   "outputs": [],
   "source": [
    "print(\"=\"*60)\n",
    "print(\"UBER DATASET SUMMARY STATISTICS\")\n",
    "print(\"=\"*60)\n",
    "print(f\"\\nTotal Rides: {len(rides)}\")\n",
    "print(f\"Total Drivers: {len(drivers)}\")\n",
    "print(f\"Average Fare: ${rides['fare_amount'].mean():.2f}\")\n",
    "print(f\"Average Trip Duration: {rides['trip_duration_minutes'].mean():.2f} minutes\")\n",
    "print(f\"Average Passenger Count: {rides['passenger_count'].mean():.2f}\")\n",
    "print(f\"\\nPayment Methods:\")\n",
    "print(rides['payment_type'].value_counts())\n",
    "print(f\"\\nDriver Average Rating: {drivers['rating'].mean():.2f}\")\n",
    "print(f\"Most Experienced Driver: {drivers['years_experience'].max()} years\")\n",
    "print(\"=\"*60)"
   ]
  }
 ],
 "metadata": {
  "kernelspec": {
   "display_name": "Python 3",
   "language": "python",
   "name": "python3"
  },
  "language_info": {
   "codemirror_mode": {
    "name": "ipython",
    "version": 3
   },
   "file_extension": ".py",
   "mimetype": "text/x-python",
   "name": "python",
   "nbconvert_exporter": "python",
   "pygments_lexer": "ipython3",
   "version": "3.8.0"
  }
 },
 "nbformat": 4,
 "nbformat_minor": 4
}
